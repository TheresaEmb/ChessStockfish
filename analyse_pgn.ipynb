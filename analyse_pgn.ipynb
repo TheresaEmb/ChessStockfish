{
  "cells": [
    {
      "cell_type": "code",
      "metadata": {},
      "source": [
        "# Hier kommt dein Import und deine Funktion hin\n",
        "import chess.pgn\n",
        "import chess.engine\n",
        "\n",
        "def analyse_file(pgn_path):\n",
        "    # ...\n",
        "    pass\n"
      ],
      "outputs": []
    },
    {
      "cell_type": "code",
      "metadata": {},
      "source": [
        "# Beispielaufruf:\n",
        "analyse_file('data/lichess_sample_10000.pgn')"
      ],
      "outputs": []
    }
  ],
  "metadata": {
    "kernelspec": {
      "display_name": "Python 3",
      "language": "python",
      "name": "python3"
    },
    "language_info": {
      "name": "python"
    }
  },
  "nbformat": 4,
  "nbformat_minor": 5
}

